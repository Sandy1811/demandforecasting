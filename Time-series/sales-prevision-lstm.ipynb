{
 "cells": [
  {
   "cell_type": "code",
   "execution_count": 1,
   "metadata": {
    "_cell_guid": "e1c1449b-3220-47d5-bc9b-72aa135adacc",
    "_uuid": "48cf7476cddd8ccb0def2e455467515f9c6184e1",
    "collapsed": true
   },
   "outputs": [
    {
     "name": "stdout",
     "output_type": "stream",
     "text": [
      "holidays_events.csv\n",
      "items.csv\n",
      "oil.csv\n",
      "sample_submission.csv\n",
      "stores.csv\n",
      "test.csv\n",
      "train.csv\n",
      "transactions.csv\n",
      "\n"
     ]
    }
   ],
   "source": [
    "import numpy as np\n",
    "import pandas as pd\n",
    "import seaborn as sns\n",
    "import matplotlib.pyplot as plt\n",
    "import gc;gc.collect\n",
    "import datetime\n",
    "\n",
    "from subprocess import check_output\n",
    "print(check_output([\"ls\", \"../input\"]).decode(\"utf8\"))\n"
   ]
  },
  {
   "cell_type": "code",
   "execution_count": 2,
   "metadata": {
    "_cell_guid": "36e71b25-7963-4850-9652-0f58cd0fe140",
    "_uuid": "fde7fa8a35c5bd538c626a9ab267eacce7251a8e",
    "collapsed": true
   },
   "outputs": [
    {
     "name": "stderr",
     "output_type": "stream",
     "text": [
      "/opt/conda/lib/python3.6/site-packages/IPython/core/interactiveshell.py:2717: DtypeWarning: Columns (5) have mixed types. Specify dtype option on import or set low_memory=False.\n",
      "  interactivity=interactivity, compiler=compiler, result=result)\n"
     ]
    }
   ],
   "source": [
    "#holidays_events = pd.read_csv('../input/holidays_events.csv')\n",
    "#items = pd.read_csv('../input/items.csv')\n",
    "#oil = pd.read_csv('../input/oil.csv')\n",
    "sample_submission = pd.read_csv('../input/sample_submission.csv')\n",
    "#stores = pd.read_csv('../input/stores.csv')\n",
    "test = pd.read_csv('../input/test.csv')\n",
    "train = pd.read_csv('../input/train.csv')\n",
    "#transactions = pd.read_csv('../input/transactions.csv')\n"
   ]
  },
  {
   "cell_type": "code",
   "execution_count": 3,
   "metadata": {
    "_cell_guid": "d59dcb12-8edc-4881-878e-4fa81e45fc6e",
    "_uuid": "495557c0313b7039cf90ababcd810bdf35075dfd",
    "collapsed": true
   },
   "outputs": [
    {
     "data": {
      "text/plain": [
       "7"
      ]
     },
     "execution_count": 3,
     "metadata": {},
     "output_type": "execute_result"
    }
   ],
   "source": [
    "train[\"date\"] =  pd.to_datetime(train[\"date\"])\n",
    "train_2016 = train[train[\"date\"].dt.year == 2016]\n",
    "date_list=np.unique(train_2016[\"date\"])\n",
    "del train; gc.collect()\n"
   ]
  },
  {
   "cell_type": "code",
   "execution_count": 4,
   "metadata": {
    "_cell_guid": "796e20b3-24d2-4acf-a2b3-8c19aedbf4f6",
    "_uuid": "59c2dff800ada10f91b8089d26351b283cdcc5c0",
    "collapsed": true
   },
   "outputs": [],
   "source": [
    "#train_2016[\"Year\"]=train_2016[\"date\"].dt.year\n",
    "#train_2016[\"Month\"]=train_2016[\"date\"].dt.month\n",
    "#train_2016[\"Day\"]=train_2016[\"date\"].dt.day\n",
    "#date_list"
   ]
  },
  {
   "cell_type": "code",
   "execution_count": 5,
   "metadata": {
    "_cell_guid": "af70291d-6b5d-486e-9563-d4e0d96fc9ca",
    "_uuid": "0ac7b306b775ed45bf8e69772a78a44459097630",
    "collapsed": true,
    "scrolled": true
   },
   "outputs": [
    {
     "name": "stdout",
     "output_type": "stream",
     "text": [
      "               date  store_nbr  item_nbr  unit_sales\n",
      "66458908 2016-01-01         25    105574        12.0\n",
      "66458909 2016-01-01         25    105575         9.0\n",
      "66458910 2016-01-01         25    105857         3.0\n",
      "66458911 2016-01-01         25    108634         3.0\n",
      "66458912 2016-01-01         25    108701         2.0\n"
     ]
    }
   ],
   "source": [
    "\n",
    "#train_2016.set_index(\"date\",inplace=True)\n",
    "train_2016.drop(\"id\",axis=1,inplace=True)\n",
    "train_2016.drop(\"onpromotion\",axis=1,inplace=True)\n",
    "train_2016.fillna(0, inplace=True)\n",
    "print(train_2016.head(5))\n",
    "\n",
    "#train_2016.to_csv('train_2016.csv')"
   ]
  },
  {
   "cell_type": "markdown",
   "metadata": {
    "_cell_guid": "938287a5-3c91-4893-8429-5eef993d292a",
    "_uuid": "aa8161138e795c63384ed1fc5b46de239055c173"
   },
   "source": [
    "## Memory Reduction "
   ]
  },
  {
   "cell_type": "code",
   "execution_count": 6,
   "metadata": {
    "_cell_guid": "a11b8e0e-c994-4356-9e07-3ebb4917769e",
    "_uuid": "16103f2fe92057e605dbd9a942bea59ef400b3d6",
    "collapsed": true
   },
   "outputs": [
    {
     "name": "stdout",
     "output_type": "stream",
     "text": [
      "1343.9129257202148  MB\n"
     ]
    }
   ],
   "source": [
    "memo = train_2016.memory_usage(index=True).sum()\n",
    "print(memo/ 1024**2,\" MB\")\n"
   ]
  },
  {
   "cell_type": "code",
   "execution_count": 7,
   "metadata": {
    "_cell_guid": "c19d02d8-4b2a-4081-81e1-4c08de869cec",
    "_uuid": "116e942f89497923b3ec5e61bed96cfc8d6aa574",
    "collapsed": true
   },
   "outputs": [
    {
     "name": "stdout",
     "output_type": "stream",
     "text": [
      "date          datetime64[ns]\n",
      "store_nbr              int64\n",
      "item_nbr               int64\n",
      "unit_sales           float64\n",
      "dtype: object\n"
     ]
    }
   ],
   "source": [
    "print(train_2016.dtypes)"
   ]
  },
  {
   "cell_type": "code",
   "execution_count": 8,
   "metadata": {
    "_cell_guid": "08cdaef4-9bfe-4cb1-b1b3-8f896ba01a61",
    "_uuid": "1d25a298dfa353b237e81a548d38e4c8b9e59e4e",
    "collapsed": true
   },
   "outputs": [],
   "source": [
    "train_2016['store_nbr'] = train_2016['store_nbr'].astype(np.int8)\n",
    "train_2016['item_nbr'] = train_2016['item_nbr'].astype(np.int32)\n",
    "train_2016['unit_sales'] = train_2016['unit_sales'].astype(np.int8)\n"
   ]
  },
  {
   "cell_type": "code",
   "execution_count": 9,
   "metadata": {
    "_cell_guid": "50f51af2-38cd-4f98-a765-93ab02ff0414",
    "_uuid": "1405a8b161b59da11748a425446e543c4f0fb4bb",
    "collapsed": true
   },
   "outputs": [
    {
     "name": "stdout",
     "output_type": "stream",
     "text": [
      "739.1521091461182  MB\n"
     ]
    }
   ],
   "source": [
    "memo = train_2016.memory_usage(index=True).sum()\n",
    "print(memo/ 1024**2,\" MB\")\n"
   ]
  },
  {
   "cell_type": "code",
   "execution_count": 10,
   "metadata": {
    "_cell_guid": "7acade28-891e-4192-bb25-b3f039ad7608",
    "_uuid": "6e8968419d678a52a28cdaeaa730486b7746236b",
    "collapsed": true
   },
   "outputs": [
    {
     "data": {
      "text/html": [
       "<div>\n",
       "<style>\n",
       "    .dataframe thead tr:only-child th {\n",
       "        text-align: right;\n",
       "    }\n",
       "\n",
       "    .dataframe thead th {\n",
       "        text-align: left;\n",
       "    }\n",
       "\n",
       "    .dataframe tbody tr th {\n",
       "        vertical-align: top;\n",
       "    }\n",
       "</style>\n",
       "<table border=\"1\" class=\"dataframe\">\n",
       "  <thead>\n",
       "    <tr style=\"text-align: right;\">\n",
       "      <th></th>\n",
       "      <th>date</th>\n",
       "      <th>store_nbr</th>\n",
       "      <th>item_nbr</th>\n",
       "      <th>unit_sales</th>\n",
       "    </tr>\n",
       "  </thead>\n",
       "  <tbody>\n",
       "    <tr>\n",
       "      <th>66458908</th>\n",
       "      <td>2016-01-01</td>\n",
       "      <td>25</td>\n",
       "      <td>105574</td>\n",
       "      <td>12</td>\n",
       "    </tr>\n",
       "    <tr>\n",
       "      <th>66458909</th>\n",
       "      <td>2016-01-01</td>\n",
       "      <td>25</td>\n",
       "      <td>105575</td>\n",
       "      <td>9</td>\n",
       "    </tr>\n",
       "    <tr>\n",
       "      <th>66458910</th>\n",
       "      <td>2016-01-01</td>\n",
       "      <td>25</td>\n",
       "      <td>105857</td>\n",
       "      <td>3</td>\n",
       "    </tr>\n",
       "    <tr>\n",
       "      <th>66458911</th>\n",
       "      <td>2016-01-01</td>\n",
       "      <td>25</td>\n",
       "      <td>108634</td>\n",
       "      <td>3</td>\n",
       "    </tr>\n",
       "    <tr>\n",
       "      <th>66458912</th>\n",
       "      <td>2016-01-01</td>\n",
       "      <td>25</td>\n",
       "      <td>108701</td>\n",
       "      <td>2</td>\n",
       "    </tr>\n",
       "  </tbody>\n",
       "</table>\n",
       "</div>"
      ],
      "text/plain": [
       "               date  store_nbr  item_nbr  unit_sales\n",
       "66458908 2016-01-01         25    105574          12\n",
       "66458909 2016-01-01         25    105575           9\n",
       "66458910 2016-01-01         25    105857           3\n",
       "66458911 2016-01-01         25    108634           3\n",
       "66458912 2016-01-01         25    108701           2"
      ]
     },
     "execution_count": 10,
     "metadata": {},
     "output_type": "execute_result"
    }
   ],
   "source": [
    "train_2016.head()"
   ]
  },
  {
   "cell_type": "markdown",
   "metadata": {
    "_cell_guid": "6b3db7aa-5a71-4729-909d-efb1c5da8a81",
    "_uuid": "37e2e587f400ae1b13c7db1a9a20f6ba1f0caeb8",
    "collapsed": true
   },
   "source": [
    "## Select one item and one store"
   ]
  },
  {
   "cell_type": "code",
   "execution_count": 11,
   "metadata": {
    "_cell_guid": "fd829151-5521-4705-873f-38b868840c27",
    "_uuid": "8452856641a6337d1eb86519f0ae83ccf9ce8e51",
    "collapsed": true
   },
   "outputs": [
    {
     "name": "stderr",
     "output_type": "stream",
     "text": [
      "/opt/conda/lib/python3.6/site-packages/ipykernel_launcher.py:3: SettingWithCopyWarning: \n",
      "A value is trying to be set on a copy of a slice from a DataFrame\n",
      "\n",
      "See the caveats in the documentation: http://pandas.pydata.org/pandas-docs/stable/indexing.html#indexing-view-versus-copy\n",
      "  This is separate from the ipykernel package so we can avoid doing imports until\n",
      "/opt/conda/lib/python3.6/site-packages/ipykernel_launcher.py:4: SettingWithCopyWarning: \n",
      "A value is trying to be set on a copy of a slice from a DataFrame\n",
      "\n",
      "See the caveats in the documentation: http://pandas.pydata.org/pandas-docs/stable/indexing.html#indexing-view-versus-copy\n",
      "  after removing the cwd from sys.path.\n"
     ]
    }
   ],
   "source": [
    "train_2016_25= train_2016[train_2016[\"store_nbr\"] == 25]\n",
    "train_2016_25_105574= train_2016_25[train_2016_25[\"item_nbr\"] == 105574]\n",
    "train_2016_25_105574.drop(\"store_nbr\",axis=1,inplace=True)\n",
    "train_2016_25_105574.drop(\"item_nbr\",axis=1,inplace=True)\n"
   ]
  },
  {
   "cell_type": "code",
   "execution_count": 12,
   "metadata": {
    "_cell_guid": "0cc29835-b3ba-411c-bca7-bf3f88b464d5",
    "_uuid": "0aa7fbc7e302caf21d20bfc0e780b71153e94618",
    "collapsed": true
   },
   "outputs": [
    {
     "data": {
      "image/png": "[encoded data removed]",
      "text/plain": [
       "<matplotlib.figure.Figure at 0x7f8cf86f2f28>"
      ]
     },
     "metadata": {},
     "output_type": "display_data"
    }
   ],
   "source": [
    "train_2016_25_105574.plot(figsize=(15, 6))\n",
    "plt.show()"
   ]
  },
  {
   "cell_type": "markdown",
   "metadata": {
    "_cell_guid": "a52df78e-950d-4794-87d0-1d1da04ed9e6",
    "_uuid": "4d7484281f7943864af773f0a5fd36b10ec4355c"
   },
   "source": [
    "We can see there are some data which are not here . "
   ]
  },
  {
   "cell_type": "code",
   "execution_count": 13,
   "metadata": {
    "_cell_guid": "183973e7-1d74-49fc-a8db-567f9b2e41e3",
    "_uuid": "8ba56d9f9f4dc0c03ae61f51e8c2dbfa41939f72",
    "collapsed": true
   },
   "outputs": [
    {
     "data": {
      "text/html": [
       "<div>\n",
       "<style>\n",
       "    .dataframe thead tr:only-child th {\n",
       "        text-align: right;\n",
       "    }\n",
       "\n",
       "    .dataframe thead th {\n",
       "        text-align: left;\n",
       "    }\n",
       "\n",
       "    .dataframe tbody tr th {\n",
       "        vertical-align: top;\n",
       "    }\n",
       "</style>\n",
       "<table border=\"1\" class=\"dataframe\">\n",
       "  <thead>\n",
       "    <tr style=\"text-align: right;\">\n",
       "      <th></th>\n",
       "      <th>date</th>\n",
       "    </tr>\n",
       "  </thead>\n",
       "  <tbody>\n",
       "    <tr>\n",
       "      <th>0</th>\n",
       "      <td>2016-01-01</td>\n",
       "    </tr>\n",
       "    <tr>\n",
       "      <th>1</th>\n",
       "      <td>2016-01-02</td>\n",
       "    </tr>\n",
       "    <tr>\n",
       "      <th>2</th>\n",
       "      <td>2016-01-03</td>\n",
       "    </tr>\n",
       "    <tr>\n",
       "      <th>3</th>\n",
       "      <td>2016-01-04</td>\n",
       "    </tr>\n",
       "    <tr>\n",
       "      <th>4</th>\n",
       "      <td>2016-01-05</td>\n",
       "    </tr>\n",
       "  </tbody>\n",
       "</table>\n",
       "</div>"
      ],
      "text/plain": [
       "        date\n",
       "0 2016-01-01\n",
       "1 2016-01-02\n",
       "2 2016-01-03\n",
       "3 2016-01-04\n",
       "4 2016-01-05"
      ]
     },
     "execution_count": 13,
     "metadata": {},
     "output_type": "execute_result"
    }
   ],
   "source": [
    "df_date=pd.DataFrame(date_list)\n",
    "df_date = df_date.rename(columns={0: 'date'})\n",
    "df_date.head()"
   ]
  },
  {
   "cell_type": "code",
   "execution_count": 14,
   "metadata": {
    "_cell_guid": "078d8894-4b07-4e21-9729-9dd2cbf70feb",
    "_uuid": "630e85ec15387fe4c56e0dd122d2b70a84389c1b",
    "collapsed": true
   },
   "outputs": [
    {
     "data": {
      "text/html": [
       "<div>\n",
       "<style>\n",
       "    .dataframe thead tr:only-child th {\n",
       "        text-align: right;\n",
       "    }\n",
       "\n",
       "    .dataframe thead th {\n",
       "        text-align: left;\n",
       "    }\n",
       "\n",
       "    .dataframe tbody tr th {\n",
       "        vertical-align: top;\n",
       "    }\n",
       "</style>\n",
       "<table border=\"1\" class=\"dataframe\">\n",
       "  <thead>\n",
       "    <tr style=\"text-align: right;\">\n",
       "      <th></th>\n",
       "      <th>date</th>\n",
       "      <th>unit_sales</th>\n",
       "    </tr>\n",
       "  </thead>\n",
       "  <tbody>\n",
       "    <tr>\n",
       "      <th>0</th>\n",
       "      <td>2016-01-01</td>\n",
       "      <td>12.0</td>\n",
       "    </tr>\n",
       "    <tr>\n",
       "      <th>1</th>\n",
       "      <td>2016-01-02</td>\n",
       "      <td>16.0</td>\n",
       "    </tr>\n",
       "    <tr>\n",
       "      <th>2</th>\n",
       "      <td>2016-01-03</td>\n",
       "      <td>9.0</td>\n",
       "    </tr>\n",
       "    <tr>\n",
       "      <th>3</th>\n",
       "      <td>2016-01-04</td>\n",
       "      <td>4.0</td>\n",
       "    </tr>\n",
       "    <tr>\n",
       "      <th>4</th>\n",
       "      <td>2016-01-05</td>\n",
       "      <td>6.0</td>\n",
       "    </tr>\n",
       "  </tbody>\n",
       "</table>\n",
       "</div>"
      ],
      "text/plain": [
       "        date  unit_sales\n",
       "0 2016-01-01        12.0\n",
       "1 2016-01-02        16.0\n",
       "2 2016-01-03         9.0\n",
       "3 2016-01-04         4.0\n",
       "4 2016-01-05         6.0"
      ]
     },
     "execution_count": 14,
     "metadata": {},
     "output_type": "execute_result"
    }
   ],
   "source": [
    "df = pd.merge(df_date, train_2016_25_105574, how='left', on=['date'])\n",
    "df.fillna(0,inplace=True)\n",
    "\n",
    "df.head()"
   ]
  },
  {
   "cell_type": "code",
   "execution_count": 15,
   "metadata": {
    "_cell_guid": "a0790fd5-1c65-4c70-902e-f6e27f43634b",
    "_uuid": "6cd2f99c93d887dc69f30d9022f285d5d6d149c7",
    "collapsed": true
   },
   "outputs": [
    {
     "data": {
      "image/png": "[encoded data removed]",
      "text/plain": [
       "<matplotlib.figure.Figure at 0x7f8cf31d0a58>"
      ]
     },
     "metadata": {},
     "output_type": "display_data"
    },
    {
     "data": {
      "text/html": [
       "<div>\n",
       "<style>\n",
       "    .dataframe thead tr:only-child th {\n",
       "        text-align: right;\n",
       "    }\n",
       "\n",
       "    .dataframe thead th {\n",
       "        text-align: left;\n",
       "    }\n",
       "\n",
       "    .dataframe tbody tr th {\n",
       "        vertical-align: top;\n",
       "    }\n",
       "</style>\n",
       "<table border=\"1\" class=\"dataframe\">\n",
       "  <thead>\n",
       "    <tr style=\"text-align: right;\">\n",
       "      <th></th>\n",
       "      <th>unit_sales</th>\n",
       "    </tr>\n",
       "  </thead>\n",
       "  <tbody>\n",
       "    <tr>\n",
       "      <th>count</th>\n",
       "      <td>365.000000</td>\n",
       "    </tr>\n",
       "    <tr>\n",
       "      <th>mean</th>\n",
       "      <td>4.819178</td>\n",
       "    </tr>\n",
       "    <tr>\n",
       "      <th>std</th>\n",
       "      <td>4.921378</td>\n",
       "    </tr>\n",
       "    <tr>\n",
       "      <th>min</th>\n",
       "      <td>0.000000</td>\n",
       "    </tr>\n",
       "    <tr>\n",
       "      <th>25%</th>\n",
       "      <td>1.000000</td>\n",
       "    </tr>\n",
       "    <tr>\n",
       "      <th>50%</th>\n",
       "      <td>4.000000</td>\n",
       "    </tr>\n",
       "    <tr>\n",
       "      <th>75%</th>\n",
       "      <td>7.000000</td>\n",
       "    </tr>\n",
       "    <tr>\n",
       "      <th>max</th>\n",
       "      <td>36.000000</td>\n",
       "    </tr>\n",
       "  </tbody>\n",
       "</table>\n",
       "</div>"
      ],
      "text/plain": [
       "       unit_sales\n",
       "count  365.000000\n",
       "mean     4.819178\n",
       "std      4.921378\n",
       "min      0.000000\n",
       "25%      1.000000\n",
       "50%      4.000000\n",
       "75%      7.000000\n",
       "max     36.000000"
      ]
     },
     "execution_count": 15,
     "metadata": {},
     "output_type": "execute_result"
    }
   ],
   "source": [
    "df.plot(figsize=(15, 6))\n",
    "plt.show()\n",
    "df.describe()"
   ]
  },
  {
   "cell_type": "markdown",
   "metadata": {
    "_cell_guid": "1a7483f2-80c7-42ad-be68-6d040d2edb37",
    "_uuid": "ad8306e1573c36f622b075b058495120e5a1de85"
   },
   "source": [
    "## LSTM"
   ]
  },
  {
   "cell_type": "code",
   "execution_count": 16,
   "metadata": {
    "_cell_guid": "a72622c4-6c2f-487f-95df-30b448be53de",
    "_uuid": "c01a72c8714734e73962871b6291715171bd857c",
    "collapsed": true
   },
   "outputs": [
    {
     "name": "stderr",
     "output_type": "stream",
     "text": [
      "Using TensorFlow backend.\n"
     ]
    }
   ],
   "source": [
    "import numpy\n",
    "import matplotlib.pyplot as plt\n",
    "import pandas\n",
    "import math\n",
    "from keras.models import Sequential\n",
    "from keras.layers import Dense,Dropout\n",
    "from keras.layers import LSTM\n",
    "from sklearn.preprocessing import MinMaxScaler\n",
    "from sklearn.metrics import mean_squared_error"
   ]
  },
  {
   "cell_type": "code",
   "execution_count": 17,
   "metadata": {
    "_cell_guid": "b6dd53b2-498b-4f42-91b3-4aed9e815b95",
    "_uuid": "add7a144a801c5f27d0047aa4849ef6f9b246277",
    "collapsed": true
   },
   "outputs": [],
   "source": [
    "# fix random seed for reproducibility\n",
    "numpy.random.seed(7)\n",
    "\n",
    "\n"
   ]
  },
  {
   "cell_type": "code",
   "execution_count": 18,
   "metadata": {
    "_cell_guid": "eb4919a3-dcfd-4f73-b895-07d2054610de",
    "_uuid": "b63805c5cce11b273c20a4368593130d290709dd",
    "collapsed": true
   },
   "outputs": [],
   "source": [
    "# split into train and test sets\n",
    "train, test =df[df[\"date\"].dt.month <= 11], df[df[\"date\"].dt.month > 11]\n",
    "train=train.set_index(\"date\")\n",
    "test=test.set_index(\"date\")\n",
    "df=df.set_index(\"date\")\n",
    "train=train.values\n",
    "test=test.values\n",
    "df=df.values\n"
   ]
  },
  {
   "cell_type": "code",
   "execution_count": 19,
   "metadata": {
    "_cell_guid": "5627fa53-c397-42fd-9e42-b297bc1db94a",
    "_uuid": "73370b1d66a68f15367adb4b3144aca60b832406",
    "collapsed": true
   },
   "outputs": [],
   "source": [
    "def create_dataset(dataset, look_back=1):\n",
    "    dataX, dataY = [], []\n",
    "    for i in range(len(dataset)-look_back-1):\n",
    "        a = dataset[i:(i+look_back), 0]\n",
    "        dataX.append(a)\n",
    "        dataY.append(dataset[i + look_back, 0])\n",
    "    return numpy.array(dataX), numpy.array(dataY)"
   ]
  },
  {
   "cell_type": "code",
   "execution_count": 20,
   "metadata": {
    "_cell_guid": "9cccc38b-e7db-48f6-acb8-52f735f452a5",
    "_uuid": "9f444f568b0396e7eb780906bbec50365c1b95f4",
    "collapsed": true
   },
   "outputs": [],
   "source": [
    "# reshape into X=t and Y=t+1\n",
    "look_back = 4\n",
    "trainX, trainY = create_dataset(train, look_back)\n",
    "testX, testY = create_dataset(test, look_back)"
   ]
  },
  {
   "cell_type": "code",
   "execution_count": 21,
   "metadata": {
    "_cell_guid": "09349da9-3235-4a77-9d9e-b0465073e56e",
    "_uuid": "f2b3be5feccd4180778c37a2222d35c0a970fb66",
    "collapsed": true
   },
   "outputs": [],
   "source": [
    "\n",
    "# reshape input to be [samples, time steps, features]\n",
    "trainX = numpy.reshape(trainX, (trainX.shape[0], 1, trainX.shape[1]))\n",
    "testX = numpy.reshape(testX, (testX.shape[0], 1, testX.shape[1]))"
   ]
  },
  {
   "cell_type": "code",
   "execution_count": 22,
   "metadata": {
    "_cell_guid": "a9fdc402-e1b1-4a1f-a1c0-85cee260ed10",
    "_uuid": "8e7b023aa8048a767f339bd0fe869d771a1dd346",
    "collapsed": true
   },
   "outputs": [
    {
     "name": "stdout",
     "output_type": "stream",
     "text": [
      "Train on 330 samples, validate on 25 samples\n",
      "Epoch 1/25\n",
      "1s - loss: 38.1932 - val_loss: 27.5576\n",
      "Epoch 2/25\n",
      "1s - loss: 23.8119 - val_loss: 19.2611\n",
      "Epoch 3/25\n",
      "1s - loss: 19.8743 - val_loss: 18.8944\n",
      "Epoch 4/25\n",
      "1s - loss: 18.6536 - val_loss: 19.7716\n",
      "Epoch 5/25\n",
      "1s - loss: 18.9382 - val_loss: 19.9046\n",
      "Epoch 6/25\n",
      "1s - loss: 18.2721 - val_loss: 20.2348\n",
      "Epoch 7/25\n",
      "1s - loss: 16.7816 - val_loss: 20.3805\n",
      "Epoch 8/25\n",
      "1s - loss: 17.2182 - val_loss: 20.3342\n",
      "Epoch 9/25\n",
      "1s - loss: 16.3994 - val_loss: 20.6664\n",
      "Epoch 10/25\n",
      "1s - loss: 15.8535 - val_loss: 20.8287\n",
      "Epoch 11/25\n",
      "1s - loss: 15.1631 - val_loss: 20.6270\n",
      "Epoch 12/25\n",
      "1s - loss: 15.0002 - val_loss: 20.4670\n",
      "Epoch 13/25\n",
      "1s - loss: 14.4929 - val_loss: 20.8857\n",
      "Epoch 14/25\n",
      "1s - loss: 16.0005 - val_loss: 20.8699\n",
      "Epoch 15/25\n",
      "1s - loss: 15.2334 - val_loss: 20.6376\n",
      "Epoch 16/25\n",
      "1s - loss: 15.5908 - val_loss: 21.3359\n",
      "Epoch 17/25\n",
      "1s - loss: 14.5024 - val_loss: 21.5392\n",
      "Epoch 18/25\n",
      "1s - loss: 14.2528 - val_loss: 20.5694\n",
      "Epoch 19/25\n",
      "1s - loss: 15.2458 - val_loss: 21.1648\n",
      "Epoch 20/25\n",
      "1s - loss: 14.3805 - val_loss: 20.9759\n",
      "Epoch 21/25\n",
      "1s - loss: 13.9803 - val_loss: 21.4187\n",
      "Epoch 22/25\n",
      "1s - loss: 13.3737 - val_loss: 21.3368\n",
      "Epoch 23/25\n",
      "1s - loss: 14.0239 - val_loss: 21.0135\n",
      "Epoch 24/25\n",
      "1s - loss: 14.2297 - val_loss: 20.6535\n",
      "Epoch 25/25\n",
      "1s - loss: 13.8396 - val_loss: 20.7051\n"
     ]
    },
    {
     "data": {
      "text/plain": [
       "<keras.callbacks.History at 0x7f8cf73e6400>"
      ]
     },
     "execution_count": 22,
     "metadata": {},
     "output_type": "execute_result"
    }
   ],
   "source": [
    "# create and fit the LSTM network\n",
    "model = Sequential()\n",
    "model.add(LSTM(4, input_shape=(1, look_back)))\n",
    "model.add(Dense(10))\n",
    "model.add(Dropout(0.2))\n",
    "model.add(Dense(1))\n",
    "model.compile(loss='mean_squared_error', optimizer='adam')\n",
    "model.fit(trainX, trainY, validation_data=(testX, testY),epochs=25, batch_size=1, verbose=2)"
   ]
  },
  {
   "cell_type": "code",
   "execution_count": 23,
   "metadata": {
    "_cell_guid": "ecc2c1c7-94ba-4734-b8db-ea73d53d26d8",
    "_uuid": "6c62b817e07bf69081c0d56e75f0ccb12523dd20",
    "collapsed": true
   },
   "outputs": [],
   "source": [
    "# make predictions\n",
    "trainPredict = model.predict(trainX)\n",
    "testPredict = model.predict(testX)"
   ]
  },
  {
   "cell_type": "code",
   "execution_count": 24,
   "metadata": {
    "_cell_guid": "2baaede9-ef7d-48fa-b4d4-90cc41962558",
    "_uuid": "4028ed36bb1ba0019e1d37315f7f2d2c64ab0b55",
    "collapsed": true
   },
   "outputs": [
    {
     "data": {
      "image/png": "[encoded data removed]",
      "text/plain": [
       "<matplotlib.figure.Figure at 0x7f8cf73ab5f8>"
      ]
     },
     "metadata": {},
     "output_type": "display_data"
    }
   ],
   "source": [
    "# shift train predictions for plotting\n",
    "trainPredictPlot = numpy.empty_like(df)\n",
    "trainPredictPlot[:, :] = numpy.nan\n",
    "trainPredictPlot[look_back:len(trainPredict)+look_back, :] = trainPredict\n",
    "# shift test predictions for plotting\n",
    "testPredictPlot = numpy.empty_like(df)\n",
    "testPredictPlot[:, :] = numpy.nan\n",
    "testPredictPlot[len(trainPredict)+(look_back*2)+1:len(df)-1, :] = testPredict\n",
    "# plot baseline and predictions\n",
    "\n",
    "plt.plot(df)\n",
    "plt.plot(trainPredictPlot)\n",
    "plt.plot(testPredictPlot)\n",
    "plt.show()"
   ]
  },
  {
   "cell_type": "code",
   "execution_count": 25,
   "metadata": {
    "_cell_guid": "7d584319-5e46-439c-adf4-8f9451e9a4a3",
    "_uuid": "d8a1e2a8eed220996dfbc9ed648c8b5259ceaa42",
    "collapsed": true
   },
   "outputs": [
    {
     "data": {
      "text/html": [
       "<div>\n",
       "<style>\n",
       "    .dataframe thead tr:only-child th {\n",
       "        text-align: right;\n",
       "    }\n",
       "\n",
       "    .dataframe thead th {\n",
       "        text-align: left;\n",
       "    }\n",
       "\n",
       "    .dataframe tbody tr th {\n",
       "        vertical-align: top;\n",
       "    }\n",
       "</style>\n",
       "<table border=\"1\" class=\"dataframe\">\n",
       "  <thead>\n",
       "    <tr style=\"text-align: right;\">\n",
       "      <th></th>\n",
       "      <th>0</th>\n",
       "      <th>testY</th>\n",
       "    </tr>\n",
       "  </thead>\n",
       "  <tbody>\n",
       "    <tr>\n",
       "      <th>0</th>\n",
       "      <td>1.819726</td>\n",
       "      <td>2.0</td>\n",
       "    </tr>\n",
       "    <tr>\n",
       "      <th>1</th>\n",
       "      <td>3.797086</td>\n",
       "      <td>0.0</td>\n",
       "    </tr>\n",
       "    <tr>\n",
       "      <th>2</th>\n",
       "      <td>0.919335</td>\n",
       "      <td>2.0</td>\n",
       "    </tr>\n",
       "    <tr>\n",
       "      <th>3</th>\n",
       "      <td>2.302592</td>\n",
       "      <td>2.0</td>\n",
       "    </tr>\n",
       "    <tr>\n",
       "      <th>4</th>\n",
       "      <td>2.945876</td>\n",
       "      <td>3.0</td>\n",
       "    </tr>\n",
       "    <tr>\n",
       "      <th>5</th>\n",
       "      <td>3.097588</td>\n",
       "      <td>1.0</td>\n",
       "    </tr>\n",
       "    <tr>\n",
       "      <th>6</th>\n",
       "      <td>2.073555</td>\n",
       "      <td>2.0</td>\n",
       "    </tr>\n",
       "    <tr>\n",
       "      <th>7</th>\n",
       "      <td>2.665918</td>\n",
       "      <td>0.0</td>\n",
       "    </tr>\n",
       "    <tr>\n",
       "      <th>8</th>\n",
       "      <td>1.046624</td>\n",
       "      <td>3.0</td>\n",
       "    </tr>\n",
       "    <tr>\n",
       "      <th>9</th>\n",
       "      <td>3.151656</td>\n",
       "      <td>0.0</td>\n",
       "    </tr>\n",
       "    <tr>\n",
       "      <th>10</th>\n",
       "      <td>1.364261</td>\n",
       "      <td>0.0</td>\n",
       "    </tr>\n",
       "    <tr>\n",
       "      <th>11</th>\n",
       "      <td>0.947067</td>\n",
       "      <td>6.0</td>\n",
       "    </tr>\n",
       "    <tr>\n",
       "      <th>12</th>\n",
       "      <td>4.203923</td>\n",
       "      <td>10.0</td>\n",
       "    </tr>\n",
       "    <tr>\n",
       "      <th>13</th>\n",
       "      <td>4.860221</td>\n",
       "      <td>11.0</td>\n",
       "    </tr>\n",
       "    <tr>\n",
       "      <th>14</th>\n",
       "      <td>7.042787</td>\n",
       "      <td>8.0</td>\n",
       "    </tr>\n",
       "    <tr>\n",
       "      <th>15</th>\n",
       "      <td>8.801437</td>\n",
       "      <td>4.0</td>\n",
       "    </tr>\n",
       "    <tr>\n",
       "      <th>16</th>\n",
       "      <td>8.971240</td>\n",
       "      <td>5.0</td>\n",
       "    </tr>\n",
       "    <tr>\n",
       "      <th>17</th>\n",
       "      <td>8.363895</td>\n",
       "      <td>2.0</td>\n",
       "    </tr>\n",
       "    <tr>\n",
       "      <th>18</th>\n",
       "      <td>4.892924</td>\n",
       "      <td>7.0</td>\n",
       "    </tr>\n",
       "    <tr>\n",
       "      <th>19</th>\n",
       "      <td>6.010571</td>\n",
       "      <td>4.0</td>\n",
       "    </tr>\n",
       "    <tr>\n",
       "      <th>20</th>\n",
       "      <td>5.385202</td>\n",
       "      <td>13.0</td>\n",
       "    </tr>\n",
       "    <tr>\n",
       "      <th>21</th>\n",
       "      <td>7.145128</td>\n",
       "      <td>8.0</td>\n",
       "    </tr>\n",
       "    <tr>\n",
       "      <th>22</th>\n",
       "      <td>8.111115</td>\n",
       "      <td>1.0</td>\n",
       "    </tr>\n",
       "    <tr>\n",
       "      <th>23</th>\n",
       "      <td>2.941528</td>\n",
       "      <td>16.0</td>\n",
       "    </tr>\n",
       "    <tr>\n",
       "      <th>24</th>\n",
       "      <td>8.927775</td>\n",
       "      <td>12.0</td>\n",
       "    </tr>\n",
       "  </tbody>\n",
       "</table>\n",
       "</div>"
      ],
      "text/plain": [
       "           0  testY\n",
       "0   1.819726    2.0\n",
       "1   3.797086    0.0\n",
       "2   0.919335    2.0\n",
       "3   2.302592    2.0\n",
       "4   2.945876    3.0\n",
       "5   3.097588    1.0\n",
       "6   2.073555    2.0\n",
       "7   2.665918    0.0\n",
       "8   1.046624    3.0\n",
       "9   3.151656    0.0\n",
       "10  1.364261    0.0\n",
       "11  0.947067    6.0\n",
       "12  4.203923   10.0\n",
       "13  4.860221   11.0\n",
       "14  7.042787    8.0\n",
       "15  8.801437    4.0\n",
       "16  8.971240    5.0\n",
       "17  8.363895    2.0\n",
       "18  4.892924    7.0\n",
       "19  6.010571    4.0\n",
       "20  5.385202   13.0\n",
       "21  7.145128    8.0\n",
       "22  8.111115    1.0\n",
       "23  2.941528   16.0\n",
       "24  8.927775   12.0"
      ]
     },
     "execution_count": 25,
     "metadata": {},
     "output_type": "execute_result"
    }
   ],
   "source": [
    "result=pd.DataFrame(testPredict)\n",
    "result[\"testY\"]=testY\n",
    "result"
   ]
  },
  {
   "cell_type": "code",
   "execution_count": 26,
   "metadata": {
    "_cell_guid": "b8382a1a-2162-41b6-991e-20eca1ff6c53",
    "_uuid": "c659c292e8709d44c03e71cb550d6ddf068f92d7",
    "collapsed": true
   },
   "outputs": [],
   "source": []
  },
  {
   "cell_type": "code",
   "execution_count": 26,
   "metadata": {
    "_cell_guid": "6238aeb1-347d-48a8-baa6-9fb672118cf2",
    "_uuid": "1d8b65b711f7daddc40390533951cab45a463158",
    "collapsed": true
   },
   "outputs": [],
   "source": []
  },
  {
   "cell_type": "code",
   "execution_count": 26,
   "metadata": {
    "_cell_guid": "ba72dc19-c877-4ca1-b238-8378d5d06048",
    "_uuid": "4cab996b99c9cfba5b282914eee5501bd22f569c",
    "collapsed": true
   },
   "outputs": [],
   "source": []
  }
 ],
 "metadata": {
  "kernelspec": {
   "display_name": "Python 3",
   "language": "python",
   "name": "python3"
  },
  "language_info": {
   "codemirror_mode": {
    "name": "ipython",
    "version": 3
   },
   "file_extension": ".py",
   "mimetype": "text/x-python",
   "name": "python",
   "nbconvert_exporter": "python",
   "pygments_lexer": "ipython3",
   "version": "3.6.3"
  }
 },
 "nbformat": 4,
 "nbformat_minor": 1
}
