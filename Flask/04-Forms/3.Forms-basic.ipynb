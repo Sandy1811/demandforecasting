{
 "cells": [
  {
   "cell_type": "code",
   "execution_count": 8,
   "metadata": {
    "collapsed": true,
    "jupyter": {
     "outputs_hidden": true,
     "source_hidden": true
    }
   },
   "outputs": [
    {
     "name": "stdout",
     "output_type": "stream",
     "text": [
      " * Serving Flask app \"__main__\" (lazy loading)\n",
      " * Environment: production\n",
      "   WARNING: Do not use the development server in a production environment.\n",
      "   Use a production WSGI server instead.\n",
      " * Debug mode: off\n"
     ]
    },
    {
     "name": "stderr",
     "output_type": "stream",
     "text": [
      " * Running on http://127.0.0.1:5000/ (Press CTRL+C to quit)\n",
      "127.0.0.1 - - [16/Aug/2019 01:58:28] \"POST / HTTP/1.1\" 200 -\n",
      "127.0.0.1 - - [16/Aug/2019 01:58:32] \"POST / HTTP/1.1\" 200 -\n",
      "127.0.0.1 - - [16/Aug/2019 01:58:34] \"POST / HTTP/1.1\" 200 -\n",
      "127.0.0.1 - - [16/Aug/2019 01:58:35] \"POST / HTTP/1.1\" 200 -\n",
      "127.0.0.1 - - [16/Aug/2019 01:58:36] \"POST / HTTP/1.1\" 200 -\n"
     ]
    }
   ],
   "source": [
    "from flask import Flask, render_template\n",
    "from flask_wtf import FlaskForm\n",
    "from wtforms import StringField, SubmitField\n",
    "\n",
    "app = Flask(__name__)\n",
    "app.config['SECRET_KEY'] = 'mysecretkey'\n",
    "\n",
    "class InfoForm(FlaskForm):\n",
    "    breed = StringField(\"What breed are you?\")\n",
    "    submit = SubmitField(\"Submit\")\n",
    "    \n",
    "@app.route(\"/\", methods = [\"GET\", \"POST\"])\n",
    "def index():\n",
    "    breed = False\n",
    "    form = InfoForm()\n",
    "    if form.validate_on_submit():\n",
    "        breed = form.breed.data\n",
    "        form.breed.data = \"\"\n",
    "    return render_template(\"00-home.html\", form= form, breed= breed)    \n",
    "\n",
    "if __name__ == \"__main__\":\n",
    "    app.run(debug=False)"
   ]
  },
  {
   "cell_type": "code",
   "execution_count": 22,
   "metadata": {
    "collapsed": true,
    "jupyter": {
     "outputs_hidden": true,
     "source_hidden": true
    }
   },
   "outputs": [
    {
     "name": "stdout",
     "output_type": "stream",
     "text": [
      " * Serving Flask app \"__main__\" (lazy loading)\n",
      " * Environment: production\n",
      "   WARNING: Do not use the development server in a production environment.\n",
      "   Use a production WSGI server instead.\n",
      " * Debug mode: off\n"
     ]
    },
    {
     "name": "stderr",
     "output_type": "stream",
     "text": [
      " * Running on http://127.0.0.1:5000/ (Press CTRL+C to quit)\n",
      "127.0.0.1 - - [16/Aug/2019 02:09:23] \"POST / HTTP/1.1\" 200 -\n",
      "127.0.0.1 - - [16/Aug/2019 02:09:47] \"POST / HTTP/1.1\" 200 -\n",
      "127.0.0.1 - - [16/Aug/2019 02:09:52] \"POST / HTTP/1.1\" 200 -\n",
      "127.0.0.1 - - [16/Aug/2019 02:11:37] \"POST / HTTP/1.1\" 302 -\n",
      "127.0.0.1 - - [16/Aug/2019 02:11:37] \"GET /thankyou HTTP/1.1\" 200 -\n"
     ]
    }
   ],
   "source": [
    "from flask import Flask, render_template, session, redirect, url_for, session\n",
    "from flask_wtf import FlaskForm\n",
    "from wtforms import (StringField, BooleanField, DateTimeField, RadioField, SelectField, TextField, TextAreaField, SubmitField)\n",
    "from wtforms.validators import DataRequired\n",
    "\n",
    "app = Flask(__name__)\n",
    "app.config[\"SECRET_KEY\"] = \"mysecretkey\"\n",
    "\n",
    "class InfoForm(FlaskForm):\n",
    "    breed = StringField('What breed are you?',validators=[DataRequired()])\n",
    "    neutered = BooleanField(\"Have you been neutered?\")\n",
    "    mood = RadioField('Please choose your mood:', choices=[('mood_one','Happy'),('mood_two','Excited')])\n",
    "    food_choice = SelectField(u'Pick Your Favorite Food:',\n",
    "                          choices=[('chi', 'Chicken'), ('bf', 'Beef'),\n",
    "                                   ('fish', 'Fish')])\n",
    "    feedback = TextAreaField()\n",
    "    submit = SubmitField('Submit')\n",
    "    \n",
    "@app.route(\"/\", methods=['GET', 'POST'])\n",
    "def index():\n",
    "    form = InfoForm()\n",
    "    if form.validate_on_submit():\n",
    "        session['breed'] = form.breed.data\n",
    "        session['neutered'] = form.neutered.data\n",
    "        session['mood'] = form.mood.data\n",
    "        session['food'] = form.food_choice.data\n",
    "        session['feedback'] = form.feedback.data\n",
    "        \n",
    "        return redirect(url_for(\"thankyou\"))\n",
    "    \n",
    "    return render_template('01-home.html', form=form)\n",
    "\n",
    "@app.route(\"/thankyou\")\n",
    "def thankyou():\n",
    "    return render_template('01-thankyou.html')\n",
    "                        \n",
    "                           \n",
    "if __name__ == '__main__':\n",
    "    app.run(debug=False)                   "
   ]
  },
  {
   "cell_type": "code",
   "execution_count": 26,
   "metadata": {
    "collapsed": true,
    "jupyter": {
     "outputs_hidden": true,
     "source_hidden": true
    }
   },
   "outputs": [
    {
     "name": "stdout",
     "output_type": "stream",
     "text": [
      " * Serving Flask app \"__main__\" (lazy loading)\n",
      " * Environment: production\n",
      "   WARNING: Do not use the development server in a production environment.\n",
      "   Use a production WSGI server instead.\n",
      " * Debug mode: off\n"
     ]
    },
    {
     "name": "stderr",
     "output_type": "stream",
     "text": [
      " * Running on http://127.0.0.1:5000/ (Press CTRL+C to quit)\n",
      "127.0.0.1 - - [16/Aug/2019 02:19:39] \"GET /thankyou HTTP/1.1\" 404 -\n",
      "127.0.0.1 - - [16/Aug/2019 02:19:53] \"GET / HTTP/1.1\" 200 -\n",
      "127.0.0.1 - - [16/Aug/2019 02:19:57] \"POST / HTTP/1.1\" 302 -\n",
      "127.0.0.1 - - [16/Aug/2019 02:19:57] \"GET / HTTP/1.1\" 200 -\n",
      "127.0.0.1 - - [16/Aug/2019 02:20:01] \"POST / HTTP/1.1\" 302 -\n",
      "127.0.0.1 - - [16/Aug/2019 02:20:01] \"GET / HTTP/1.1\" 200 -\n",
      "127.0.0.1 - - [16/Aug/2019 02:20:02] \"POST / HTTP/1.1\" 302 -\n",
      "127.0.0.1 - - [16/Aug/2019 02:20:02] \"GET / HTTP/1.1\" 200 -\n",
      "127.0.0.1 - - [16/Aug/2019 02:20:02] \"POST / HTTP/1.1\" 302 -\n",
      "127.0.0.1 - - [16/Aug/2019 02:20:02] \"GET / HTTP/1.1\" 200 -\n",
      "127.0.0.1 - - [16/Aug/2019 02:20:03] \"POST / HTTP/1.1\" 302 -\n",
      "127.0.0.1 - - [16/Aug/2019 02:20:03] \"GET / HTTP/1.1\" 200 -\n",
      "127.0.0.1 - - [16/Aug/2019 02:20:03] \"POST / HTTP/1.1\" 302 -\n",
      "127.0.0.1 - - [16/Aug/2019 02:20:03] \"GET / HTTP/1.1\" 200 -\n",
      "127.0.0.1 - - [16/Aug/2019 02:20:04] \"POST / HTTP/1.1\" 302 -\n",
      "127.0.0.1 - - [16/Aug/2019 02:20:04] \"GET / HTTP/1.1\" 200 -\n",
      "127.0.0.1 - - [16/Aug/2019 02:20:05] \"POST / HTTP/1.1\" 302 -\n",
      "127.0.0.1 - - [16/Aug/2019 02:20:05] \"GET / HTTP/1.1\" 200 -\n",
      "127.0.0.1 - - [16/Aug/2019 02:20:09] \"POST / HTTP/1.1\" 302 -\n",
      "127.0.0.1 - - [16/Aug/2019 02:20:09] \"GET / HTTP/1.1\" 200 -\n",
      "127.0.0.1 - - [16/Aug/2019 02:20:12] \"POST / HTTP/1.1\" 302 -\n",
      "127.0.0.1 - - [16/Aug/2019 02:20:12] \"GET / HTTP/1.1\" 200 -\n",
      "127.0.0.1 - - [16/Aug/2019 02:20:19] \"POST / HTTP/1.1\" 302 -\n",
      "127.0.0.1 - - [16/Aug/2019 02:20:19] \"GET / HTTP/1.1\" 200 -\n",
      "127.0.0.1 - - [16/Aug/2019 02:20:21] \"POST / HTTP/1.1\" 302 -\n",
      "127.0.0.1 - - [16/Aug/2019 02:20:21] \"GET / HTTP/1.1\" 200 -\n",
      "127.0.0.1 - - [16/Aug/2019 02:20:23] \"POST / HTTP/1.1\" 302 -\n",
      "127.0.0.1 - - [16/Aug/2019 02:20:23] \"GET / HTTP/1.1\" 200 -\n",
      "127.0.0.1 - - [16/Aug/2019 02:20:25] \"POST / HTTP/1.1\" 302 -\n",
      "127.0.0.1 - - [16/Aug/2019 02:20:25] \"GET / HTTP/1.1\" 200 -\n",
      "127.0.0.1 - - [16/Aug/2019 02:20:28] \"POST / HTTP/1.1\" 302 -\n",
      "127.0.0.1 - - [16/Aug/2019 02:20:28] \"GET / HTTP/1.1\" 200 -\n",
      "127.0.0.1 - - [16/Aug/2019 02:20:31] \"POST / HTTP/1.1\" 302 -\n",
      "127.0.0.1 - - [16/Aug/2019 02:20:31] \"GET / HTTP/1.1\" 200 -\n"
     ]
    }
   ],
   "source": [
    "from flask import Flask, render_template, flash, session, redirect, url_for\n",
    "from flask_wtf import FlaskForm\n",
    "from wtforms import StringField, SubmitField\n",
    "\n",
    "app = Flask(__name__)\n",
    "app.config[\"SECRET_KEY\"] = \"mysecretkey\"\n",
    "\n",
    "class SimpleForm(FlaskForm):\n",
    "    submit = SubmitField(\"Click Me.\")\n",
    "    \n",
    "@app.route(\"/\", methods = [\"GET\", \"POST\"])\n",
    "def index():\n",
    "    form = SimpleForm()\n",
    "    if form.validate_on_submit():\n",
    "        flash(\"You just clicked the button!\")\n",
    "        \n",
    "        return redirect(url_for(\"index\"))\n",
    "    return render_template('02-home.html', form=form)\n",
    "\n",
    "if __name__ == '__main__':\n",
    "    app.run(debug=False)"
   ]
  },
  {
   "cell_type": "code",
   "execution_count": 27,
   "metadata": {
    "collapsed": true,
    "jupyter": {
     "outputs_hidden": true,
     "source_hidden": true
    }
   },
   "outputs": [
    {
     "name": "stdout",
     "output_type": "stream",
     "text": [
      " * Serving Flask app \"__main__\" (lazy loading)\n",
      " * Environment: production\n",
      "   WARNING: Do not use the development server in a production environment.\n",
      "   Use a production WSGI server instead.\n",
      " * Debug mode: off\n"
     ]
    },
    {
     "name": "stderr",
     "output_type": "stream",
     "text": [
      " * Running on http://127.0.0.1:5000/ (Press CTRL+C to quit)\n",
      "127.0.0.1 - - [16/Aug/2019 02:21:09] \"GET / HTTP/1.1\" 200 -\n",
      "127.0.0.1 - - [16/Aug/2019 02:21:16] \"POST / HTTP/1.1\" 302 -\n",
      "127.0.0.1 - - [16/Aug/2019 02:21:16] \"GET / HTTP/1.1\" 200 -\n",
      "127.0.0.1 - - [16/Aug/2019 02:21:24] \"POST / HTTP/1.1\" 302 -\n",
      "127.0.0.1 - - [16/Aug/2019 02:21:24] \"GET / HTTP/1.1\" 200 -\n",
      "127.0.0.1 - - [16/Aug/2019 02:21:25] \"POST / HTTP/1.1\" 302 -\n",
      "127.0.0.1 - - [16/Aug/2019 02:21:25] \"GET / HTTP/1.1\" 200 -\n"
     ]
    }
   ],
   "source": [
    "from flask import Flask, render_template, session, redirect, url_for, session, flash\n",
    "from flask_wtf import FlaskForm\n",
    "from wtforms import (StringField, BooleanField, DateTimeField,\n",
    "                     RadioField,SelectField,TextField,\n",
    "                     TextAreaField,SubmitField)\n",
    "from wtforms.validators import DataRequired\n",
    "\n",
    "app = Flask(__name__)\n",
    "\n",
    "app.config['SECRET_KEY'] = 'mysecretkey'\n",
    "\n",
    "class InfoForm(FlaskForm):\n",
    "    '''\n",
    "    This general class gets a lot of form about puppies.\n",
    "    Mainly a way to go through many of the WTForms Fields.\n",
    "    '''\n",
    "    breed = StringField('What breed are you?')\n",
    "    submit = SubmitField('Submit')\n",
    "\n",
    "\n",
    "\n",
    "@app.route('/', methods=['GET', 'POST'])\n",
    "def index():\n",
    "\n",
    "    # Create instance of the form.\n",
    "    form = InfoForm()\n",
    "    # If the form is valid on submission (we'll talk about validation next)\n",
    "    if form.validate_on_submit():\n",
    "        # Grab the data from the breed on the form.\n",
    "\n",
    "        session['breed'] = form.breed.data\n",
    "        flash(f\"You just changed your breed to: {session['breed']}\")\n",
    "        return redirect(url_for(\"index\"))\n",
    "\n",
    "\n",
    "    return render_template('03-home.html', form=form)\n",
    "\n",
    "\n",
    "if __name__ == '__main__':\n",
    "    app.run(debug=False)"
   ]
  },
  {
   "cell_type": "code",
   "execution_count": null,
   "metadata": {},
   "outputs": [],
   "source": []
  }
 ],
 "metadata": {
  "kernelspec": {
   "display_name": "Python 3",
   "language": "python",
   "name": "python3"
  },
  "language_info": {
   "codemirror_mode": {
    "name": "ipython",
    "version": 3
   },
   "file_extension": ".py",
   "mimetype": "text/x-python",
   "name": "python",
   "nbconvert_exporter": "python",
   "pygments_lexer": "ipython3",
   "version": "3.7.3"
  }
 },
 "nbformat": 4,
 "nbformat_minor": 4
}
