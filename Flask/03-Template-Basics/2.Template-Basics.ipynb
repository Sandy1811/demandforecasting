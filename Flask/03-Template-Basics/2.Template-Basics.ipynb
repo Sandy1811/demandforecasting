{
 "cells": [
  {
   "cell_type": "code",
   "execution_count": 6,
   "metadata": {
    "collapsed": true,
    "jupyter": {
     "outputs_hidden": true,
     "source_hidden": true
    }
   },
   "outputs": [
    {
     "name": "stdout",
     "output_type": "stream",
     "text": [
      " * Serving Flask app \"__main__\" (lazy loading)\n",
      " * Environment: production\n",
      "   WARNING: Do not use the development server in a production environment.\n",
      "   Use a production WSGI server instead.\n",
      " * Debug mode: off\n"
     ]
    },
    {
     "name": "stderr",
     "output_type": "stream",
     "text": [
      " * Running on http://127.0.0.1:5000/ (Press CTRL+C to quit)\n",
      "127.0.0.1 - - [16/Aug/2019 00:50:26] \"GET / HTTP/1.1\" 200 -\n"
     ]
    }
   ],
   "source": [
    "from flask import Flask\n",
    "app = Flask(__name__)\n",
    "\n",
    "@app.route(\"/\")\n",
    "def my_app():\n",
    "    return '<h1> I hate you Sudha!, Kon se 550 rupee </h1>'\n",
    "\n",
    "if __name__ == \"__main__\":\n",
    "    app.run(debug=False)"
   ]
  },
  {
   "cell_type": "code",
   "execution_count": 9,
   "metadata": {
    "collapsed": true,
    "jupyter": {
     "outputs_hidden": true,
     "source_hidden": true
    }
   },
   "outputs": [
    {
     "name": "stdout",
     "output_type": "stream",
     "text": [
      " * Serving Flask app \"__main__\" (lazy loading)\n",
      " * Environment: production\n",
      "   WARNING: Do not use the development server in a production environment.\n",
      "   Use a production WSGI server instead.\n",
      " * Debug mode: off\n"
     ]
    },
    {
     "name": "stderr",
     "output_type": "stream",
     "text": [
      " * Running on http://127.0.0.1:5000/ (Press CTRL+C to quit)\n",
      "127.0.0.1 - - [16/Aug/2019 01:00:12] \"GET / HTTP/1.1\" 200 -\n",
      "127.0.0.1 - - [16/Aug/2019 01:00:12] \"GET /static/puppy_pic.jpg HTTP/1.1\" 200 -\n"
     ]
    }
   ],
   "source": [
    "from flask import Flask, render_template\n",
    "app = Flask(__name__)\n",
    "\n",
    "\n",
    "@app.route('/')\n",
    "def index():\n",
    "    # Connecting to a template (html file)\n",
    "    return render_template('00-Basic-Template.html')\n",
    "\n",
    "if __name__ == '__main__':\n",
    "    app.run(debug=False)"
   ]
  },
  {
   "cell_type": "code",
   "execution_count": 2,
   "metadata": {
    "jupyter": {
     "source_hidden": true
    }
   },
   "outputs": [
    {
     "name": "stdout",
     "output_type": "stream",
     "text": [
      " * Serving Flask app \"__main__\" (lazy loading)\n",
      " * Environment: production\n",
      "   WARNING: Do not use the development server in a production environment.\n",
      "   Use a production WSGI server instead.\n",
      " * Debug mode: off\n"
     ]
    },
    {
     "name": "stderr",
     "output_type": "stream",
     "text": [
      " * Running on http://127.0.0.1:5000/ (Press CTRL+C to quit)\n",
      "127.0.0.1 - - [16/Aug/2019 01:13:33] \"GET /puppy/merapeppu/ HTTP/1.1\" 404 -\n",
      "127.0.0.1 - - [16/Aug/2019 01:13:46] \"GET /advpuppy/merapeppu/ HTTP/1.1\" 404 -\n",
      "127.0.0.1 - - [16/Aug/2019 01:13:56] \"GET /advpuppy/merapeppu HTTP/1.1\" 200 -\n",
      "127.0.0.1 - - [16/Aug/2019 01:14:03] \"GET /advpuppy/chutdede HTTP/1.1\" 200 -\n"
     ]
    }
   ],
   "source": [
    "from flask import Flask, render_template\n",
    "app = Flask(__name__)\n",
    "\n",
    "\n",
    "@app.route('/')\n",
    "def index():\n",
    "    # Pass in a puppy name\n",
    "    # We insert it to the html with jinja2 templates!\n",
    "    return '<h1> Go to /puppy/name </h1>'\n",
    "\n",
    "@app.route('/puppy/<name>')\n",
    "def puppy_name(name):\n",
    "    # Pass in a puppy name\n",
    "    # We insert it to the html with jinja2 templates!\n",
    "    return render_template('01-Template-Variables.html',name=name)\n",
    "\n",
    "@app.route('/advpuppy/<name>')\n",
    "def adv_puppy_name(name):\n",
    "    letters = list(name)\n",
    "    pup_dict = {'pup_name':name}\n",
    "    return render_template('01-Template-Variables.html',\n",
    "                           name=name,mylist=letters,mydict=pup_dict)\n",
    "\n",
    "\n",
    "if __name__ == '__main__':\n",
    "    app.run(debug=False)"
   ]
  },
  {
   "cell_type": "code",
   "execution_count": 3,
   "metadata": {
    "collapsed": true,
    "jupyter": {
     "outputs_hidden": true,
     "source_hidden": true
    }
   },
   "outputs": [
    {
     "name": "stdout",
     "output_type": "stream",
     "text": [
      " * Serving Flask app \"__main__\" (lazy loading)\n",
      " * Environment: production\n",
      "   WARNING: Do not use the development server in a production environment.\n",
      "   Use a production WSGI server instead.\n",
      " * Debug mode: off\n"
     ]
    },
    {
     "name": "stderr",
     "output_type": "stream",
     "text": [
      " * Running on http://127.0.0.1:5000/ (Press CTRL+C to quit)\n",
      "127.0.0.1 - - [16/Aug/2019 01:15:08] \"GET / HTTP/1.1\" 200 -\n",
      "[2019-08-16 01:15:23,906] ERROR in app: Exception on /puppy/sandy [GET]\n",
      "Traceback (most recent call last):\n",
      "  File \"C:\\Users\\ADMIN\\Anaconda3\\lib\\site-packages\\flask\\app.py\", line 2292, in wsgi_app\n",
      "    response = self.full_dispatch_request()\n",
      "  File \"C:\\Users\\ADMIN\\Anaconda3\\lib\\site-packages\\flask\\app.py\", line 1815, in full_dispatch_request\n",
      "    rv = self.handle_user_exception(e)\n",
      "  File \"C:\\Users\\ADMIN\\Anaconda3\\lib\\site-packages\\flask\\app.py\", line 1718, in handle_user_exception\n",
      "    reraise(exc_type, exc_value, tb)\n",
      "  File \"C:\\Users\\ADMIN\\Anaconda3\\lib\\site-packages\\flask\\_compat.py\", line 35, in reraise\n",
      "    raise value\n",
      "  File \"C:\\Users\\ADMIN\\Anaconda3\\lib\\site-packages\\flask\\app.py\", line 1813, in full_dispatch_request\n",
      "    rv = self.dispatch_request()\n",
      "  File \"C:\\Users\\ADMIN\\Anaconda3\\lib\\site-packages\\flask\\app.py\", line 1799, in dispatch_request\n",
      "    return self.view_functions[rule.endpoint](**req.view_args)\n",
      "  File \"<ipython-input-3-cc1f99a5a755>\", line 15, in puppy_name\n",
      "    return render_template('02-Template-Filters.html',name=name)\n",
      "  File \"C:\\Users\\ADMIN\\Anaconda3\\lib\\site-packages\\flask\\templating.py\", line 134, in render_template\n",
      "    return _render(ctx.app.jinja_env.get_or_select_template(template_name_or_list),\n",
      "  File \"C:\\Users\\ADMIN\\Anaconda3\\lib\\site-packages\\jinja2\\environment.py\", line 869, in get_or_select_template\n",
      "    return self.get_template(template_name_or_list, parent, globals)\n",
      "  File \"C:\\Users\\ADMIN\\Anaconda3\\lib\\site-packages\\jinja2\\environment.py\", line 830, in get_template\n",
      "    return self._load_template(name, self.make_globals(globals))\n",
      "  File \"C:\\Users\\ADMIN\\Anaconda3\\lib\\site-packages\\jinja2\\environment.py\", line 804, in _load_template\n",
      "    template = self.loader.load(self, name, globals)\n",
      "  File \"C:\\Users\\ADMIN\\Anaconda3\\lib\\site-packages\\jinja2\\loaders.py\", line 125, in load\n",
      "    code = environment.compile(source, name, filename)\n",
      "  File \"C:\\Users\\ADMIN\\Anaconda3\\lib\\site-packages\\jinja2\\environment.py\", line 591, in compile\n",
      "    self.handle_exception(exc_info, source_hint=source_hint)\n",
      "  File \"C:\\Users\\ADMIN\\Anaconda3\\lib\\site-packages\\jinja2\\environment.py\", line 780, in handle_exception\n",
      "    reraise(exc_type, exc_value, tb)\n",
      "  File \"C:\\Users\\ADMIN\\Anaconda3\\lib\\site-packages\\jinja2\\_compat.py\", line 37, in reraise\n",
      "    raise value.with_traceback(tb)\n",
      "  File \"C:\\Users\\ADMIN\\Documents\\GitHub\\python-for-all\\Flask\\03-Template-Basics\\templates\\02-Template-Filters.html\", line 11, in template\n",
      "    <h1>Upper {{name|rufus}}</h1>\n",
      "  File \"C:\\Users\\ADMIN\\Anaconda3\\lib\\site-packages\\jinja2\\environment.py\", line 543, in _generate\n",
      "    optimized=self.optimized)\n",
      "  File \"C:\\Users\\ADMIN\\Anaconda3\\lib\\site-packages\\jinja2\\compiler.py\", line 82, in generate\n",
      "    generator.visit(node)\n",
      "  File \"C:\\Users\\ADMIN\\Anaconda3\\lib\\site-packages\\jinja2\\visitor.py\", line 38, in visit\n",
      "    return f(node, *args, **kwargs)\n",
      "  File \"C:\\Users\\ADMIN\\Anaconda3\\lib\\site-packages\\jinja2\\compiler.py\", line 754, in visit_Template\n",
      "    self.blockvisit(node.body, frame)\n",
      "  File \"C:\\Users\\ADMIN\\Anaconda3\\lib\\site-packages\\jinja2\\compiler.py\", line 378, in blockvisit\n",
      "    self.visit(node, frame)\n",
      "  File \"C:\\Users\\ADMIN\\Anaconda3\\lib\\site-packages\\jinja2\\visitor.py\", line 38, in visit\n",
      "    return f(node, *args, **kwargs)\n",
      "  File \"C:\\Users\\ADMIN\\Anaconda3\\lib\\site-packages\\jinja2\\compiler.py\", line 1358, in visit_Output\n",
      "    self.visit(argument, frame)\n",
      "  File \"C:\\Users\\ADMIN\\Anaconda3\\lib\\site-packages\\jinja2\\visitor.py\", line 38, in visit\n",
      "    return f(node, *args, **kwargs)\n",
      "  File \"C:\\Users\\ADMIN\\Anaconda3\\lib\\site-packages\\jinja2\\compiler.py\", line 70, in new_func\n",
      "    return f(self, node, frame, **kwargs)\n",
      "  File \"C:\\Users\\ADMIN\\Anaconda3\\lib\\site-packages\\jinja2\\compiler.py\", line 1578, in visit_Filter\n",
      "    self.fail('no filter named %r' % node.name, node.lineno)\n",
      "  File \"C:\\Users\\ADMIN\\Anaconda3\\lib\\site-packages\\jinja2\\compiler.py\", line 315, in fail\n",
      "    raise TemplateAssertionError(msg, lineno, self.name, self.filename)\n",
      "jinja2.exceptions.TemplateAssertionError: no filter named 'rufus'\n",
      "127.0.0.1 - - [16/Aug/2019 01:15:24] \"GET /puppy/sandy HTTP/1.1\" 500 -\n"
     ]
    }
   ],
   "source": [
    "from flask import Flask, render_template\n",
    "app = Flask(__name__)\n",
    "\n",
    "\n",
    "@app.route('/')\n",
    "def index():\n",
    "    # Pass in a puppy name\n",
    "    # We insert it to the html with jinja2 templates!\n",
    "    return '<h1> Go to /puppy/name </h1>'\n",
    "\n",
    "@app.route('/puppy/<name>')\n",
    "def puppy_name(name):\n",
    "    # Pass in a puppy name\n",
    "    # We insert it to the html with jinja2 templates!\n",
    "    return render_template('02-Template-Filters.html',name=name)\n",
    "\n",
    "\n",
    "\n",
    "if __name__ == '__main__':\n",
    "    app.run(debug=False)"
   ]
  },
  {
   "cell_type": "code",
   "execution_count": null,
   "metadata": {},
   "outputs": [],
   "source": []
  }
 ],
 "metadata": {
  "kernelspec": {
   "display_name": "Python 3",
   "language": "python",
   "name": "python3"
  },
  "language_info": {
   "codemirror_mode": {
    "name": "ipython",
    "version": 3
   },
   "file_extension": ".py",
   "mimetype": "text/x-python",
   "name": "python",
   "nbconvert_exporter": "python",
   "pygments_lexer": "ipython3",
   "version": "3.7.3"
  }
 },
 "nbformat": 4,
 "nbformat_minor": 4
}
