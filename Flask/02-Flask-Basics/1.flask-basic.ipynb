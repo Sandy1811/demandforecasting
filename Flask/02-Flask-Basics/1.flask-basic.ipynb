{
 "cells": [
  {
   "cell_type": "code",
   "execution_count": 20,
   "metadata": {},
   "outputs": [
    {
     "name": "stdout",
     "output_type": "stream",
     "text": [
      " * Serving Flask app \"__main__\" (lazy loading)\n",
      " * Environment: production\n",
      "   WARNING: Do not use the development server in a production environment.\n",
      "   Use a production WSGI server instead.\n",
      " * Debug mode: off\n"
     ]
    },
    {
     "name": "stderr",
     "output_type": "stream",
     "text": [
      " * Running on http://127.0.0.1:5000/ (Press CTRL+C to quit)\n",
      "127.0.0.1 - - [15/Aug/2019 16:37:30] \"GET / HTTP/1.1\" 200 -\n"
     ]
    }
   ],
   "source": [
    "from flask import Flask\n",
    "app = Flask(__name__)\n",
    "\n",
    "@app.route('/')\n",
    "def index():\n",
    "    return '<h1>Hello Puppy!</h1>'\n",
    "\n",
    "@app.route('/information')\n",
    "def info():\n",
    "    return '<h1>Puppies are cute!</h1>'\n",
    "\n",
    "@app.route('/puppy/<name>')\n",
    "def puppy(name):\n",
    "    # Page for an individual puppy.\n",
    "    return '<h1>This is a page for {}</h1>'.format(name)\n",
    "\n",
    "if __name__ == '__main__':\n",
    "    app.run(debug=False)"
   ]
  },
  {
   "cell_type": "markdown",
   "metadata": {},
   "source": [
    "# Importing Request"
   ]
  },
  {
   "cell_type": "code",
   "execution_count": 21,
   "metadata": {},
   "outputs": [
    {
     "name": "stdout",
     "output_type": "stream",
     "text": [
      " * Serving Flask app \"__main__\" (lazy loading)\n",
      " * Environment: production\n",
      "   WARNING: Do not use the development server in a production environment.\n",
      "   Use a production WSGI server instead.\n",
      " * Debug mode: off\n"
     ]
    },
    {
     "name": "stderr",
     "output_type": "stream",
     "text": [
      " * Running on http://127.0.0.1:5000/ (Press CTRL+C to quit)\n",
      "127.0.0.1 - - [15/Aug/2019 16:38:31] \"GET / HTTP/1.1\" 200 -\n"
     ]
    }
   ],
   "source": [
    "from flask import Flask\n",
    "from flask import request\n",
    "app = Flask(__name__)\n",
    "\n",
    "\n",
    "@app.route('/')\n",
    "def index():\n",
    "    # Grab the visitors User Agent information\n",
    "    browser_info = request.headers.get('User-Agent')\n",
    "    return '<h2>Here is your browser info:</h2> <p>{}</p>'.format(browser_info)\n",
    "\n",
    "if __name__ == '__main__':\n",
    "    app.run(debug=False)"
   ]
  },
  {
   "cell_type": "markdown",
   "metadata": {},
   "source": [
    "# Exercise"
   ]
  },
  {
   "cell_type": "code",
   "execution_count": 22,
   "metadata": {},
   "outputs": [
    {
     "name": "stdout",
     "output_type": "stream",
     "text": [
      " * Serving Flask app \"__main__\" (lazy loading)\n",
      " * Environment: production\n",
      "   WARNING: Do not use the development server in a production environment.\n",
      "   Use a production WSGI server instead.\n",
      " * Debug mode: off\n"
     ]
    },
    {
     "name": "stderr",
     "output_type": "stream",
     "text": [
      " * Running on http://127.0.0.1:5000/ (Press CTRL+C to quit)\n",
      "127.0.0.1 - - [15/Aug/2019 16:55:23] \"GET / HTTP/1.1\" 200 -\n"
     ]
    }
   ],
   "source": [
    "# Set up your imports here!\n",
    "# import ...\n",
    "from flask import Flask\n",
    "from flask import request\n",
    "app = Flask(__name__)\n",
    "\n",
    "@app.route('/') # Fill this in!\n",
    "def index():\n",
    "    # Welcome Page\n",
    "    # Create a generic welcome page.\n",
    "    return \"<h1> Welcome! Go to /puppy_latin/name to see your name in puppy latin!</h1>\"\n",
    " \n",
    "@app.route('/puppy_latin/<name>') # Fill this in!\n",
    "def puppylatin(name):\n",
    "    pupname = ''\n",
    "    if name[-1]=='y':\n",
    "        pupname = name[:-1]+'iful'\n",
    "    else:\n",
    "        pupname = name+'y'\n",
    "    return \"<h1>Hi {}! Your puppylatin name is {} </h1>\".format(name,pupname)\n",
    "    # This function will take in the name passed\n",
    "    # and then use \"puppy-latin\" to convert it!\n",
    "\n",
    "    # HINT: Use indexing and concatenation of strings\n",
    "    # For Example: \"hello\"+\" world\" --> \"hello world\"\n",
    "   \n",
    "if __name__ == \"__main__\":\n",
    "    app.run(debug=False)"
   ]
  },
  {
   "cell_type": "code",
   "execution_count": null,
   "metadata": {},
   "outputs": [],
   "source": []
  }
 ],
 "metadata": {
  "kernelspec": {
   "display_name": "Python 3",
   "language": "python",
   "name": "python3"
  },
  "language_info": {
   "codemirror_mode": {
    "name": "ipython",
    "version": 3
   },
   "file_extension": ".py",
   "mimetype": "text/x-python",
   "name": "python",
   "nbconvert_exporter": "python",
   "pygments_lexer": "ipython3",
   "version": "3.7.3"
  }
 },
 "nbformat": 4,
 "nbformat_minor": 4
}
